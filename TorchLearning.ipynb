{
  "cells": [
    {
      "cell_type": "code",
      "execution_count": null,
      "id": "6926aebc-8418-4dee-abb1-7b5b8e53b3e1",
      "metadata": {
        "colab": {
          "base_uri": "https://localhost:8080/",
          "height": 35
        },
        "id": "6926aebc-8418-4dee-abb1-7b5b8e53b3e1",
        "outputId": "3a573775-997b-457c-fddd-d9b29e83c1a8"
      },
      "outputs": [
        {
          "output_type": "execute_result",
          "data": {
            "text/plain": [
              "'2.8.0+cu126'"
            ],
            "application/vnd.google.colaboratory.intrinsic+json": {
              "type": "string"
            }
          },
          "metadata": {},
          "execution_count": 1
        }
      ],
      "source": [
        "import torch\n",
        "torch.__version__"
      ]
    },
    {
      "cell_type": "code",
      "execution_count": null,
      "id": "df14b166-84ac-41b9-adec-65c97b838676",
      "metadata": {
        "colab": {
          "base_uri": "https://localhost:8080/"
        },
        "id": "df14b166-84ac-41b9-adec-65c97b838676",
        "outputId": "92f61155-fbef-450a-b9c7-7e2e42c09c36"
      },
      "outputs": [
        {
          "output_type": "stream",
          "name": "stdout",
          "text": [
            "tensor([[[6, 6],\n",
            "         [4, 6],\n",
            "         [2, 8]]])\n"
          ]
        }
      ],
      "source": [
        "scaler = torch.tensor([[[6,6],[4,6],[2,8]]])\n",
        "print(scaler)"
      ]
    },
    {
      "cell_type": "code",
      "execution_count": null,
      "id": "2eaa4a70-8e2a-4678-aaf5-37120d6725db",
      "metadata": {
        "colab": {
          "base_uri": "https://localhost:8080/"
        },
        "id": "2eaa4a70-8e2a-4678-aaf5-37120d6725db",
        "outputId": "ad9ce7b6-c6d2-4654-d3f5-a27872633be1"
      },
      "outputs": [
        {
          "output_type": "execute_result",
          "data": {
            "text/plain": [
              "tensor([[0.5206, 0.3371],\n",
              "        [0.4137, 0.3386]])"
            ]
          },
          "metadata": {},
          "execution_count": 3
        }
      ],
      "source": [
        "tri = torch.rand(size=(2,2))\n",
        "tri"
      ]
    },
    {
      "cell_type": "code",
      "execution_count": null,
      "id": "991993c8-8d25-45e1-a085-8ba1642d65d4",
      "metadata": {
        "id": "991993c8-8d25-45e1-a085-8ba1642d65d4"
      },
      "outputs": [],
      "source": [
        "a=torch.ones(5,4)"
      ]
    },
    {
      "cell_type": "code",
      "execution_count": null,
      "id": "a7434cbb-9207-49e9-b324-8d5f12c74ab5",
      "metadata": {
        "colab": {
          "base_uri": "https://localhost:8080/"
        },
        "id": "a7434cbb-9207-49e9-b324-8d5f12c74ab5",
        "outputId": "f885059e-5c3d-42c0-db21-bc0e33302012"
      },
      "outputs": [
        {
          "output_type": "execute_result",
          "data": {
            "text/plain": [
              "tensor([ 1,  3,  5,  7,  9, 11, 13, 15, 17, 19])"
            ]
          },
          "metadata": {},
          "execution_count": 5
        }
      ],
      "source": [
        "torch.arange(1,20,2)"
      ]
    },
    {
      "cell_type": "code",
      "execution_count": null,
      "id": "17eea06f-c6d9-4b54-9f8d-458ad68b37fa",
      "metadata": {
        "id": "17eea06f-c6d9-4b54-9f8d-458ad68b37fa"
      },
      "outputs": [],
      "source": [
        "import numpy as np\n",
        "import pandas as pd"
      ]
    },
    {
      "cell_type": "code",
      "execution_count": null,
      "id": "47051710-bd11-4555-ad16-546e7ab67b6f",
      "metadata": {
        "colab": {
          "base_uri": "https://localhost:8080/"
        },
        "id": "47051710-bd11-4555-ad16-546e7ab67b6f",
        "outputId": "b9b8c39e-2d9d-4468-c4de-7038d09794e5"
      },
      "outputs": [
        {
          "output_type": "execute_result",
          "data": {
            "text/plain": [
              "array([ 1,  3,  5,  7,  9, 11, 13, 15, 17, 19])"
            ]
          },
          "metadata": {},
          "execution_count": 7
        }
      ],
      "source": [
        "np.arange(1,20,2)"
      ]
    },
    {
      "cell_type": "code",
      "execution_count": null,
      "id": "c9e92b8b-6526-4865-8a67-adf824396569",
      "metadata": {
        "colab": {
          "base_uri": "https://localhost:8080/"
        },
        "id": "c9e92b8b-6526-4865-8a67-adf824396569",
        "outputId": "566ec861-1e19-496b-f714-a4e248a19c18"
      },
      "outputs": [
        {
          "output_type": "execute_result",
          "data": {
            "text/plain": [
              "tensor([[0., 0., 0., 0.],\n",
              "        [0., 0., 0., 0.],\n",
              "        [0., 0., 0., 0.],\n",
              "        [0., 0., 0., 0.],\n",
              "        [0., 0., 0., 0.]])"
            ]
          },
          "metadata": {},
          "execution_count": 8
        }
      ],
      "source": [
        "torch.zeros_like(a)"
      ]
    },
    {
      "cell_type": "code",
      "execution_count": null,
      "id": "94cd9426-6407-4b35-a424-10bb825406fb",
      "metadata": {
        "id": "94cd9426-6407-4b35-a424-10bb825406fb"
      },
      "outputs": [],
      "source": []
    }
  ],
  "metadata": {
    "kernelspec": {
      "display_name": "Python 3 (ipykernel)",
      "language": "python",
      "name": "python3"
    },
    "language_info": {
      "codemirror_mode": {
        "name": "ipython",
        "version": 3
      },
      "file_extension": ".py",
      "mimetype": "text/x-python",
      "name": "python",
      "nbconvert_exporter": "python",
      "pygments_lexer": "ipython3",
      "version": "3.13.6"
    },
    "colab": {
      "provenance": []
    }
  },
  "nbformat": 4,
  "nbformat_minor": 5
}