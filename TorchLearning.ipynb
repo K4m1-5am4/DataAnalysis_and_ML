{
  "cells": [
    {
      "cell_type": "markdown",
      "metadata": {
        "id": "view-in-github",
        "colab_type": "text"
      },
      "source": [
        "<a href=\"https://colab.research.google.com/github/K4m1-5am4/DataAnalysis_and_ML/blob/main/TorchLearning.ipynb\" target=\"_parent\"><img src=\"https://colab.research.google.com/assets/colab-badge.svg\" alt=\"Open In Colab\"/></a>"
      ]
    },
    {
      "cell_type": "code",
      "execution_count": 59,
      "id": "6926aebc-8418-4dee-abb1-7b5b8e53b3e1",
      "metadata": {
        "colab": {
          "base_uri": "https://localhost:8080/",
          "height": 35
        },
        "id": "6926aebc-8418-4dee-abb1-7b5b8e53b3e1",
        "outputId": "22577243-54dc-47fc-b892-b8501b1a24e2"
      },
      "outputs": [
        {
          "output_type": "execute_result",
          "data": {
            "text/plain": [
              "'2.8.0+cu126'"
            ],
            "application/vnd.google.colaboratory.intrinsic+json": {
              "type": "string"
            }
          },
          "metadata": {},
          "execution_count": 59
        }
      ],
      "source": [
        "import torch\n",
        "torch.__version__"
      ]
    },
    {
      "cell_type": "code",
      "source": [
        "k=torch.rand(10)*100\n",
        "print(k.argmax())\n",
        "print(k.dtype)\n",
        "pl = k.type(torch.float16)\n",
        "print(pl)"
      ],
      "metadata": {
        "colab": {
          "base_uri": "https://localhost:8080/"
        },
        "id": "u56rbf5sfNdY",
        "outputId": "42db632d-0c04-48e4-dcc9-3aef31abbf8c"
      },
      "id": "u56rbf5sfNdY",
      "execution_count": 36,
      "outputs": [
        {
          "output_type": "stream",
          "name": "stdout",
          "text": [
            "tensor(4)\n",
            "torch.float32\n",
            "tensor([78.5000, 54.1875, 74.1875, 78.3750, 89.1875, 31.3906, 23.9844, 46.8125,\n",
            "        59.3750, 58.2500], dtype=torch.float16)\n"
          ]
        }
      ]
    },
    {
      "cell_type": "code",
      "source": [
        "apt=torch.arange(1.,7.)\n",
        "apt_s=torch.stack([apt,apt,apt,apt,apt], dim=0)\n",
        "print(apt_s);print(apt_s.shape)"
      ],
      "metadata": {
        "id": "Mk4GoaxbfRSZ",
        "colab": {
          "base_uri": "https://localhost:8080/"
        },
        "outputId": "1ea2f8a6-2a40-45d6-c241-95f643fae537"
      },
      "id": "Mk4GoaxbfRSZ",
      "execution_count": 46,
      "outputs": [
        {
          "output_type": "stream",
          "name": "stdout",
          "text": [
            "tensor([[1., 2., 3., 4., 5., 6.],\n",
            "        [1., 2., 3., 4., 5., 6.],\n",
            "        [1., 2., 3., 4., 5., 6.],\n",
            "        [1., 2., 3., 4., 5., 6.],\n",
            "        [1., 2., 3., 4., 5., 6.]])\n",
            "torch.Size([5, 6])\n"
          ]
        }
      ]
    },
    {
      "cell_type": "code",
      "source": [
        "x = torch.arange(1, 10).reshape(1, 3, 3)\n",
        "x, x.shape"
      ],
      "metadata": {
        "colab": {
          "base_uri": "https://localhost:8080/"
        },
        "id": "LDFoEb_v3c4N",
        "outputId": "39137a7d-656a-4fbd-d52d-083040f8429d"
      },
      "id": "LDFoEb_v3c4N",
      "execution_count": 51,
      "outputs": [
        {
          "output_type": "execute_result",
          "data": {
            "text/plain": [
              "(tensor([[[1, 2, 3],\n",
              "          [4, 5, 6],\n",
              "          [7, 8, 9]]]),\n",
              " torch.Size([1, 3, 3]))"
            ]
          },
          "metadata": {},
          "execution_count": 51
        }
      ]
    },
    {
      "cell_type": "code",
      "source": [
        "import numpy as np"
      ],
      "metadata": {
        "id": "XA0iB_DQ6AJ3"
      },
      "id": "XA0iB_DQ6AJ3",
      "execution_count": 60,
      "outputs": []
    },
    {
      "cell_type": "code",
      "source": [
        "pot=np.arange(1,10,1)"
      ],
      "metadata": {
        "id": "nIxQenC66A3u"
      },
      "id": "nIxQenC66A3u",
      "execution_count": 61,
      "outputs": []
    },
    {
      "cell_type": "code",
      "source": [
        "keke=torch.from_numpy(pot)\n",
        "keke"
      ],
      "metadata": {
        "colab": {
          "base_uri": "https://localhost:8080/"
        },
        "id": "Ru75PH2961qF",
        "outputId": "1a689a93-7d25-4a8a-948b-b7eefd722e3f"
      },
      "id": "Ru75PH2961qF",
      "execution_count": 63,
      "outputs": [
        {
          "output_type": "execute_result",
          "data": {
            "text/plain": [
              "tensor([1, 2, 3, 4, 5, 6, 7, 8, 9])"
            ]
          },
          "metadata": {},
          "execution_count": 63
        }
      ]
    },
    {
      "cell_type": "code",
      "source": [
        "kk=torch.Tensor.numpy(x)"
      ],
      "metadata": {
        "id": "nyCWFfZh62IE"
      },
      "id": "nyCWFfZh62IE",
      "execution_count": 66,
      "outputs": []
    },
    {
      "cell_type": "code",
      "source": [
        "kk"
      ],
      "metadata": {
        "colab": {
          "base_uri": "https://localhost:8080/"
        },
        "id": "D6tvAcqN7MAg",
        "outputId": "688e7b29-356c-495f-8f45-3ccb8e07230e"
      },
      "id": "D6tvAcqN7MAg",
      "execution_count": 67,
      "outputs": [
        {
          "output_type": "execute_result",
          "data": {
            "text/plain": [
              "array([[[1, 2, 3],\n",
              "        [4, 5, 6],\n",
              "        [7, 8, 9]]])"
            ]
          },
          "metadata": {},
          "execution_count": 67
        }
      ]
    },
    {
      "cell_type": "code",
      "source": [
        "# Create two random tensors\n",
        "random_tensor_A = torch.rand(3, 4)\n",
        "random_tensor_B = torch.rand(3, 4)\n",
        "\n",
        "print(f\"Tensor A:\\n{random_tensor_A}\\n\")\n",
        "print(f\"Tensor B:\\n{random_tensor_B}\\n\")\n",
        "print(f\"Does Tensor A equal Tensor B? (anywhere)\")\n",
        "random_tensor_A == random_tensor_B"
      ],
      "metadata": {
        "id": "7dXrKd6Y7RK_"
      },
      "id": "7dXrKd6Y7RK_",
      "execution_count": null,
      "outputs": []
    }
  ],
  "metadata": {
    "kernelspec": {
      "display_name": "Python 3 (ipykernel)",
      "language": "python",
      "name": "python3"
    },
    "language_info": {
      "codemirror_mode": {
        "name": "ipython",
        "version": 3
      },
      "file_extension": ".py",
      "mimetype": "text/x-python",
      "name": "python",
      "nbconvert_exporter": "python",
      "pygments_lexer": "ipython3",
      "version": "3.13.6"
    },
    "colab": {
      "provenance": [],
      "include_colab_link": true
    }
  },
  "nbformat": 4,
  "nbformat_minor": 5
}